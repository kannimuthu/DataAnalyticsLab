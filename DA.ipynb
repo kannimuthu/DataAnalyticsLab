{
 "cells": [
  {
   "cell_type": "markdown",
   "id": "58475762",
   "metadata": {},
   "source": [
    "# <CENTER>DATA ANALYTICS LABORATORY</CENTER>"
   ]
  },
  {
   "cell_type": "markdown",
   "id": "77792fd0",
   "metadata": {},
   "source": [
    "LIST OF EXPERIMENTS:\n",
    "1. Random Sampling\n",
    "2. Z-test case study\n",
    "3. T-test case studies\n",
    "4. ANOVA case studies\n",
    "5. Regression\n",
    "6. Logistic Regression\n",
    "7. Time series Analysis"
   ]
  },
  {
   "cell_type": "markdown",
   "id": "65d42a09",
   "metadata": {},
   "source": [
    "# RANDOM SAMPLING"
   ]
  },
  {
   "cell_type": "code",
   "execution_count": 1,
   "id": "2f0ad270",
   "metadata": {},
   "outputs": [],
   "source": [
    "age_list=[29, 18, 20, 22, 19, 25, 30, 28,22, 21, 18, 19, 20, 20, 22, 23]"
   ]
  },
  {
   "cell_type": "code",
   "execution_count": 2,
   "id": "7f6907fa",
   "metadata": {},
   "outputs": [
    {
     "name": "stdout",
     "output_type": "stream",
     "text": [
      "First random choice: 19\n",
      "Second random choice: 30\n",
      "Third random choice: 28\n"
     ]
    }
   ],
   "source": [
    "import random \n",
    "print(\"First random choice:\", random.choice(age_list))\n",
    "print(\"Second random choice:\", random.choice(age_list))\n",
    "print(\"Third random choice:\", random.choice(age_list))"
   ]
  },
  {
   "cell_type": "code",
   "execution_count": 3,
   "id": "391d3fa8",
   "metadata": {},
   "outputs": [
    {
     "name": "stdout",
     "output_type": "stream",
     "text": [
      "Random sample, N = 5 : [22, 19, 20, 22, 29]\n"
     ]
    }
   ],
   "source": [
    "# Picking Random Items in a List using ‘random.sample()’\n",
    "print(\"Random sample, N = 5 :\", random.sample(age_list, 5))"
   ]
  },
  {
   "cell_type": "code",
   "execution_count": 4,
   "id": "ecbc408d",
   "metadata": {},
   "outputs": [
    {
     "name": "stdout",
     "output_type": "stream",
     "text": [
      "AGE list:  [29, 18, 20, 22, 19, 25, 30, 28, 22, 21, 18, 19, 20, 20, 22, 23]\n",
      "Shuffled age list:  [19, 22, 18, 19, 23, 22, 21, 28, 20, 20, 22, 25, 20, 29, 30, 18]\n"
     ]
    }
   ],
   "source": [
    "# Randomly Shuffling Items in a List using ‘random.shuffle()’\n",
    "print(\"AGE list: \", age_list)\n",
    "random.shuffle(age_list)\n",
    "print(\"Shuffled age list: \", age_list)"
   ]
  },
  {
   "cell_type": "code",
   "execution_count": 5,
   "id": "bacc6cb6",
   "metadata": {},
   "outputs": [
    {
     "name": "stdout",
     "output_type": "stream",
     "text": [
      "Random Integer:  2\n"
     ]
    }
   ],
   "source": [
    "# Generating Random Integers using ‘random.randint()’\n",
    "print(\"Random Integer: \", random.randint(1,5))"
   ]
  },
  {
   "cell_type": "code",
   "execution_count": 6,
   "id": "b0b4af6f",
   "metadata": {},
   "outputs": [
    {
     "name": "stdout",
     "output_type": "stream",
     "text": [
      "My random integer list:  [3, 5, 2, 4, 5, 4, 5, 2, 4, 1, 3, 2, 5, 4, 2, 5, 4, 5, 1, 2, 2, 4, 3, 4, 5, 1, 5, 1, 5, 3, 2, 3, 3, 1, 3, 3, 3, 5, 1, 5, 3, 3, 2, 5, 4, 5, 4, 4, 1]\n"
     ]
    }
   ],
   "source": [
    "# Using this function, we can easily generate a list of random integers in a for-loop:\n",
    "random_ints_list = []\n",
    "for i in range(1,50):\n",
    "    n = random.randint(1,5)\n",
    "    random_ints_list.append(n)\n",
    "print(\"My random integer list: \", random_ints_list)"
   ]
  },
  {
   "cell_type": "code",
   "execution_count": 7,
   "id": "7e93ecad",
   "metadata": {},
   "outputs": [
    {
     "name": "stdout",
     "output_type": "stream",
     "text": [
      "Random Float:  0.6403850612742055\n"
     ]
    }
   ],
   "source": [
    "#Generating Random Floating Point Values\n",
    "print(\"Random Float: \", random.random())"
   ]
  },
  {
   "cell_type": "code",
   "execution_count": 8,
   "id": "c39e9723",
   "metadata": {},
   "outputs": [
    {
     "name": "stdout",
     "output_type": "stream",
     "text": [
      "My random float list:  [0.19760029007042446, 0.6286242291432685, 0.12774938019736037, 0.13911280435982476]\n"
     ]
    }
   ],
   "source": [
    "# Generate a list of random floats between 0 and 1:\n",
    "random_float_list = []\n",
    "for i in range(1,5):\n",
    "    n = random.random()\n",
    "    random_float_list.append(n)\n",
    "print(\"My random float list: \", random_float_list)"
   ]
  },
  {
   "cell_type": "code",
   "execution_count": 2,
   "id": "71218b26",
   "metadata": {},
   "outputs": [
    {
     "name": "stdout",
     "output_type": "stream",
     "text": [
      "Uniformly Distributed Numbers:  [-3.10040455 -0.60528096 -3.78257237 -0.15913439 -7.05614073 -9.12520435\n",
      " -3.04253879 -7.31372043 -7.20714528 -0.82581134 -3.35237234 -9.67006248\n",
      " -1.44408075 -1.16569778 -5.60797072 -0.97522333 -9.37175466  0.62106767\n",
      " -8.2975512   0.33837829  0.4137448   0.32738631  0.47719856 -2.76151533\n",
      " -3.99203285 -1.33133542 -8.01877329 -9.56356922 -8.90683304 -7.31259154\n",
      " -4.3627132  -6.50186361 -7.2709674  -4.09580322 -7.2646906  -5.13882368\n",
      " -1.06424123 -6.84942137 -1.81084055 -6.92717963 -9.21419455 -1.76124222\n",
      " -6.5097154   0.33489201 -3.9029948  -7.44117151 -4.5830186  -0.4712773\n",
      " -2.27050697 -6.61954658]\n"
     ]
    }
   ],
   "source": [
    "#Computing Uniformly Distributed Numbers with ‘random.uniform()’\n",
    "import numpy as np\n",
    "uniform_list = np.random.uniform(-10,1,50)\n",
    "print(\"Uniformly Distributed Numbers: \", uniform_list)"
   ]
  },
  {
   "cell_type": "code",
   "execution_count": 3,
   "id": "a47c581d",
   "metadata": {},
   "outputs": [
    {
     "name": "stdout",
     "output_type": "stream",
     "text": [
      "Normally Distributed Numbers:  [-10.19721259 -17.84025245  -8.60752213 -27.52246302  -3.4962885\n",
      " -32.29619086  -4.75822213 -21.88809751 -31.16624201  -9.62324347\n",
      " -43.76158182 -21.72381849 -44.55633403 -44.70884852 -49.65438593\n",
      " -49.81868696 -49.85152977 -34.2060938  -45.70898505 -17.25359332\n",
      "  -5.67096774 -23.0761587   -9.09896845  -3.40997564 -10.88292299\n",
      " -18.75766928  -1.9439984  -31.56390978  -0.67555135 -30.86906695\n",
      " -21.62333142 -30.79243964 -16.98499367 -36.8561205  -41.53173531\n",
      " -11.98908785 -46.24211502  -7.47407403 -43.31721037 -47.69960757\n",
      " -48.30123408  -2.30289114 -43.28673098 -26.32469623  -3.10719097\n",
      "  -2.40455165 -44.38641671 -47.34214835 -38.90235377 -27.96398727]\n"
     ]
    }
   ],
   "source": [
    "# Computing Normally Distributed Numbers with ‘random.gauss()’\n",
    "normal_list = np.random.uniform(-50,0,50)\n",
    "print(\"Normally Distributed Numbers: \", normal_list)"
   ]
  },
  {
   "cell_type": "markdown",
   "id": "34368bec",
   "metadata": {},
   "source": [
    "# Z-Test"
   ]
  },
  {
   "cell_type": "code",
   "execution_count": 11,
   "id": "0ed0831f",
   "metadata": {},
   "outputs": [],
   "source": [
    "# One Sample Z-Test in Python"
   ]
  },
  {
   "cell_type": "markdown",
   "id": "81d2fc41",
   "metadata": {},
   "source": [
    "<p>Suppose the IQ in a certain population is normally distributed with a mean of μ = 100 and standard deviation of σ = 15.\n",
    "\n",
    "A researcher wants to know if a new drug affects IQ levels, so he recruits 20 patients to try it and records their IQ levels.\n",
    "\n",
    "The following code shows how to perform a one sample z-test in Python to determine if the new drug causes a significant difference in IQ levels:\n",
    "    </p>"
   ]
  },
  {
   "cell_type": "code",
   "execution_count": 12,
   "id": "ba56ad55",
   "metadata": {},
   "outputs": [
    {
     "name": "stderr",
     "output_type": "stream",
     "text": [
      "C:\\Users\\ROHINI\\Anaconda3\\lib\\site-packages\\pandas\\compat\\_optional.py:138: UserWarning: Pandas requires version '2.7.0' or newer of 'numexpr' (version '2.6.9' currently installed).\n",
      "  warnings.warn(msg, UserWarning)\n",
      "C:\\Users\\ROHINI\\Anaconda3\\lib\\site-packages\\statsmodels\\tools\\_testing.py:19: FutureWarning: pandas.util.testing is deprecated. Use the functions in the public API at pandas.testing instead.\n",
      "  import pandas.util.testing as tm\n"
     ]
    },
    {
     "data": {
      "text/plain": [
       "(1.5976240527147705, 0.1101266701438426)"
      ]
     },
     "execution_count": 12,
     "metadata": {},
     "output_type": "execute_result"
    }
   ],
   "source": [
    "from statsmodels.stats.weightstats import ztest as ztest\n",
    "#enter IQ levels for 20 patients\n",
    "data = [88, 92, 94, 94, 96, 97, 97, 97, 99, 99,105, 109, 109, 109, 110, 112, 112, 113, 114, 115]\n",
    "#perform one sample z-test\n",
    "ztest(data, value=100)"
   ]
  },
  {
   "cell_type": "markdown",
   "id": "5bc099fb",
   "metadata": {},
   "source": [
    "<p>The test statistic for the one sample z-test is 1.5976 and the corresponding p-value is 0.1101. Since this p-value is not less than .05, we do not have sufficient evidence to reject the null hypothesis. In other words, the new drug does not significantly affect IQ level.</p>"
   ]
  },
  {
   "cell_type": "code",
   "execution_count": 13,
   "id": "c0d7aefb",
   "metadata": {},
   "outputs": [],
   "source": [
    "# Two Sample Z-Test in Python"
   ]
  },
  {
   "cell_type": "markdown",
   "id": "dfedf85b",
   "metadata": {},
   "source": [
    "<p> Suppose the IQ levels among individuals in two different cities are known to be normally distributed with known standard deviations.A researcher wants to know if the mean IQ level between individuals in city A and city B are different, so she selects a simple random sample of  20 individuals from each city and records their IQ levels.The following code shows how to perform a two sample z-test in Python to determine if the mean IQ level is different between the two cities:</p>"
   ]
  },
  {
   "cell_type": "code",
   "execution_count": 14,
   "id": "6d08d40f",
   "metadata": {},
   "outputs": [
    {
     "data": {
      "text/plain": [
       "(-1.9953236073282115, 0.046007596761332065)"
      ]
     },
     "execution_count": 14,
     "metadata": {},
     "output_type": "execute_result"
    }
   ],
   "source": [
    "from statsmodels.stats.weightstats import ztest as ztest\n",
    "\n",
    "#enter IQ levels for 20 individuals from each city\n",
    "cityA = [82, 84, 85, 89, 91, 91, 92, 94, 99, 99,105, 109, 109, 109, 110, 112, 112, 113, 114, 114]\n",
    "cityB = [90, 91, 91, 91, 95, 95, 99, 99, 108, 109,109, 114, 115, 116, 117, 117, 128, 129, 130, 133]\n",
    "#perform two sample z-test\n",
    "ztest(cityA, cityB, value=0) "
   ]
  },
  {
   "cell_type": "markdown",
   "id": "b8a8ee7d",
   "metadata": {},
   "source": [
    "<p> The test statistic for the two sample z-test is -1.9953 and the corresponding p-value is 0.0460.Since this p-value is less than .05, we have sufficient evidence to reject the null hypothesis. In other words, the mean IQ level is significantly different between the two cities.</p>"
   ]
  },
  {
   "cell_type": "markdown",
   "id": "3d20c2b8",
   "metadata": {},
   "source": [
    "# T-Test"
   ]
  },
  {
   "cell_type": "markdown",
   "id": "55338a00",
   "metadata": {},
   "source": [
    "T-Test is used to evaluate the means of one or two populations using hypothesis testing."
   ]
  },
  {
   "cell_type": "markdown",
   "id": "4b289c3b",
   "metadata": {},
   "source": [
    "<p> Systolic blood pressures of 14 patients are given below: 183, 152, 178, 157, 194, 163, 144, 114, 178, 152, 118, 158, 172, 138\n",
    "\n",
    "Test, whether the population mean, is less than 165</p>\n",
    "<p>Hypothesis</p>\n",
    "<p> H0: There is no significant mean difference in systolic blood pressure. i.e., μ = 165 </p>\n",
    "<p> H1: The population mean is less than 165. i.e., μ < 165 </p>\n",
    "\n",
    "<br>Test statistic  t= (x̄-μ)/(s/sqrt(n))\n",
    "<br> Where,\n",
    "<br> x̄ is sample mean\n",
    "<br> μ is the population mean\n",
    "<br> s is sample standard deviation\n",
    "<br> n is the number of observations\n"
   ]
  },
  {
   "cell_type": "code",
   "execution_count": 17,
   "id": "ef2cb272",
   "metadata": {},
   "outputs": [
    {
     "name": "stdout",
     "output_type": "stream",
     "text": [
      "Test statistic is -1.243183\n",
      "p-value for one tailed test is 0.117877\n",
      "Conclusion n Since p-value(=0.117877) > alpha(=0.05) We do not reject the null hypothesis H0.\n"
     ]
    }
   ],
   "source": [
    "bp=[183, 152, 178, 157, 194, 163, 144, 114, 178, 152, 118, 158, 172, 138]\n",
    "mu=165\n",
    "from scipy import stats\n",
    "t_value,p_value=stats.ttest_1samp(bp,mu)\n",
    "one_tailed_p_value=float(\"{:.6f}\".format(p_value/2)) # Since alternative hypothesis is one tailed, We need to divide the p value by 2.\n",
    "print('Test statistic is %f'%float(\"{:.6f}\".format(t_value)))\n",
    "print('p-value for one tailed test is %f'%one_tailed_p_value)\n",
    "alpha = 0.05\n",
    "if one_tailed_p_value<=alpha:\n",
    "    print('Conclusion','n','Since p-value(=%f)'%p_value,'<','alpha(=%.2f)'%alpha,'''We reject the null hypothesis H0. So we conclude that there is no significant mean difference in systolic blood pressure. i.e., μ = 165 at %.2f level of significance'''%alpha)\n",
    "else:\n",
    "    print('Conclusion','n','Since p-value(=%f)'%one_tailed_p_value,'>','alpha(=%.2f)'%alpha,\"We do not reject the null hypothesis H0.\")\n",
    "    "
   ]
  },
  {
   "cell_type": "markdown",
   "id": "f1142abc",
   "metadata": {},
   "source": [
    "<p> So we conclude that there is a significant mean difference in systolic blood pressure. </p>"
   ]
  },
  {
   "cell_type": "markdown",
   "id": "b6c23e1d",
   "metadata": {},
   "source": [
    "# ANOVA Test"
   ]
  },
  {
   "cell_type": "code",
   "execution_count": 20,
   "id": "4ecc0407",
   "metadata": {},
   "outputs": [],
   "source": [
    "# Perform a One-Way ANOVA in Python"
   ]
  },
  {
   "cell_type": "markdown",
   "id": "d43bbb0f",
   "metadata": {},
   "source": [
    "<p> One-Way ANOVA in Python: One-way ANOVA (also known as “analysis of variance”) is a test that is used to find out whether there exists a statistically significant difference between the mean values of more than one group. </p>"
   ]
  },
  {
   "cell_type": "markdown",
   "id": "543ebf8b",
   "metadata": {},
   "source": [
    "Hypothesis involved:\n",
    "<p> A one-way ANOVA has the below given null and alternative hypotheses: </p>\n",
    "<p> H0 (null hypothesis): μ1 = μ2 = μ3 = … = μk (It implies that the means of all the population are equal) </p>\n",
    "<p> H1 (alternative hypothesis): It states that there will be at least one population mean that differs from the rest </p>"
   ]
  },
  {
   "cell_type": "markdown",
   "id": "a0b33157",
   "metadata": {},
   "source": [
    "<p> Researchers took 20 cars of the same to take part in a study. These cars are randomly doped with one of the four-engine oils and allowed to run freely for 100 kilometers each. At the end of the journey, the performance of each of the cars is noted. </p>"
   ]
  },
  {
   "cell_type": "code",
   "execution_count": 21,
   "id": "15af3479",
   "metadata": {},
   "outputs": [],
   "source": [
    "# Performance when each of the engine oil is applied\n",
    "performance1 = [89, 89, 88, 78, 79]\n",
    "performance2 = [93, 92, 94, 89, 88]\n",
    "performance3 = [89, 88, 89, 93, 90]\n",
    "performance4 = [81, 78, 81, 92, 82]"
   ]
  },
  {
   "cell_type": "code",
   "execution_count": 22,
   "id": "c21bf646",
   "metadata": {},
   "outputs": [
    {
     "data": {
      "text/plain": [
       "F_onewayResult(statistic=4.625000000000002, pvalue=0.016336459839780215)"
      ]
     },
     "execution_count": 22,
     "metadata": {},
     "output_type": "execute_result"
    }
   ],
   "source": [
    "from scipy.stats import f_oneway\n",
    "# Performance when each of the engine oil is applied\n",
    "performance1 = [89, 89, 88, 78, 79]\n",
    "performance2 = [93, 92, 94, 89, 88]\n",
    "performance3 = [89, 88, 89, 93, 90]\n",
    "performance4 = [81, 78, 81, 92, 82]\n",
    "# Conduct the one-way ANOVA\n",
    "f_oneway(performance1, performance2, performance3, performance4)"
   ]
  },
  {
   "cell_type": "markdown",
   "id": "358b5d70",
   "metadata": {},
   "source": [
    "<p> The F statistic and p-value turn out to be equal to 4.625 and 0.016336498 respectively. Since the p-value is lesser than 0.05 hence we reject the null hypothesis. This implies that we have sufficient proof to say that there exists a difference in the performance among four different engine oils. </p>"
   ]
  },
  {
   "cell_type": "code",
   "execution_count": null,
   "id": "9ccd74f9",
   "metadata": {},
   "outputs": [],
   "source": [
    "# Perform 2 Way ANOVA Test"
   ]
  },
  {
   "cell_type": "markdown",
   "id": "08ac5cff",
   "metadata": {},
   "source": [
    "<p>A botanist wants to know whether or not plant growth is influenced by sunlight exposure and watering frequency. She plants 30 seeds and lets them grow for two months under different conditions for sunlight exposure and watering frequency. After two months, she records the height of each plant, in inches.\n",
    "\n",
    "Use the following steps to perform a two-way ANOVA to determine if watering frequency and sunlight exposure have a significant effect on plant growth, and to determine if there is any interaction effect between watering frequency and sunlight exposure.</p>"
   ]
  },
  {
   "cell_type": "code",
   "execution_count": 8,
   "id": "03d563a7",
   "metadata": {},
   "outputs": [
    {
     "data": {
      "text/html": [
       "<div>\n",
       "<style scoped>\n",
       "    .dataframe tbody tr th:only-of-type {\n",
       "        vertical-align: middle;\n",
       "    }\n",
       "\n",
       "    .dataframe tbody tr th {\n",
       "        vertical-align: top;\n",
       "    }\n",
       "\n",
       "    .dataframe thead th {\n",
       "        text-align: right;\n",
       "    }\n",
       "</style>\n",
       "<table border=\"1\" class=\"dataframe\">\n",
       "  <thead>\n",
       "    <tr style=\"text-align: right;\">\n",
       "      <th></th>\n",
       "      <th>water</th>\n",
       "      <th>sun</th>\n",
       "      <th>height</th>\n",
       "    </tr>\n",
       "  </thead>\n",
       "  <tbody>\n",
       "    <tr>\n",
       "      <th>0</th>\n",
       "      <td>daily</td>\n",
       "      <td>low</td>\n",
       "      <td>6</td>\n",
       "    </tr>\n",
       "    <tr>\n",
       "      <th>1</th>\n",
       "      <td>daily</td>\n",
       "      <td>low</td>\n",
       "      <td>6</td>\n",
       "    </tr>\n",
       "    <tr>\n",
       "      <th>2</th>\n",
       "      <td>daily</td>\n",
       "      <td>low</td>\n",
       "      <td>6</td>\n",
       "    </tr>\n",
       "    <tr>\n",
       "      <th>3</th>\n",
       "      <td>daily</td>\n",
       "      <td>low</td>\n",
       "      <td>5</td>\n",
       "    </tr>\n",
       "    <tr>\n",
       "      <th>4</th>\n",
       "      <td>daily</td>\n",
       "      <td>low</td>\n",
       "      <td>6</td>\n",
       "    </tr>\n",
       "    <tr>\n",
       "      <th>5</th>\n",
       "      <td>daily</td>\n",
       "      <td>med</td>\n",
       "      <td>5</td>\n",
       "    </tr>\n",
       "    <tr>\n",
       "      <th>6</th>\n",
       "      <td>daily</td>\n",
       "      <td>med</td>\n",
       "      <td>5</td>\n",
       "    </tr>\n",
       "    <tr>\n",
       "      <th>7</th>\n",
       "      <td>daily</td>\n",
       "      <td>med</td>\n",
       "      <td>6</td>\n",
       "    </tr>\n",
       "    <tr>\n",
       "      <th>8</th>\n",
       "      <td>daily</td>\n",
       "      <td>med</td>\n",
       "      <td>4</td>\n",
       "    </tr>\n",
       "    <tr>\n",
       "      <th>9</th>\n",
       "      <td>daily</td>\n",
       "      <td>med</td>\n",
       "      <td>5</td>\n",
       "    </tr>\n",
       "  </tbody>\n",
       "</table>\n",
       "</div>"
      ],
      "text/plain": [
       "   water  sun  height\n",
       "0  daily  low       6\n",
       "1  daily  low       6\n",
       "2  daily  low       6\n",
       "3  daily  low       5\n",
       "4  daily  low       6\n",
       "5  daily  med       5\n",
       "6  daily  med       5\n",
       "7  daily  med       6\n",
       "8  daily  med       4\n",
       "9  daily  med       5"
      ]
     },
     "execution_count": 8,
     "metadata": {},
     "output_type": "execute_result"
    }
   ],
   "source": [
    "import numpy as np\n",
    "import pandas as pd\n",
    "\n",
    "#create data\n",
    "df = pd.DataFrame({'water': np.repeat(['daily', 'weekly'], 15),\n",
    "                   'sun': np.tile(np.repeat(['low', 'med', 'high'], 5), 2),\n",
    "                   'height': [6, 6, 6, 5, 6, 5, 5, 6, 4, 5,\n",
    "                              6, 6, 7, 8, 7, 3, 4, 4, 4, 5,\n",
    "                              4, 4, 4, 4, 4, 5, 6, 6, 7, 8]})\n",
    "\n",
    "#view first ten rows of data \n",
    "df[:10]"
   ]
  },
  {
   "cell_type": "code",
   "execution_count": 9,
   "id": "520e16e8",
   "metadata": {},
   "outputs": [
    {
     "ename": "AttributeError",
     "evalue": "module 'pandas' has no attribute 'Panel'",
     "output_type": "error",
     "traceback": [
      "\u001b[1;31m---------------------------------------------------------------------------\u001b[0m",
      "\u001b[1;31mAttributeError\u001b[0m                            Traceback (most recent call last)",
      "\u001b[1;32m<ipython-input-9-b873d09ab493>\u001b[0m in \u001b[0;36m<module>\u001b[1;34m\u001b[0m\n\u001b[1;32m----> 1\u001b[1;33m \u001b[1;32mimport\u001b[0m \u001b[0mstatsmodels\u001b[0m\u001b[1;33m.\u001b[0m\u001b[0mapi\u001b[0m \u001b[1;32mas\u001b[0m \u001b[0msm\u001b[0m\u001b[1;33m\u001b[0m\u001b[1;33m\u001b[0m\u001b[0m\n\u001b[0m\u001b[0;32m      2\u001b[0m \u001b[1;32mfrom\u001b[0m \u001b[0mstatsmodels\u001b[0m\u001b[1;33m.\u001b[0m\u001b[0mformula\u001b[0m\u001b[1;33m.\u001b[0m\u001b[0mapi\u001b[0m \u001b[1;32mimport\u001b[0m \u001b[0mols\u001b[0m\u001b[1;33m\u001b[0m\u001b[1;33m\u001b[0m\u001b[0m\n\u001b[0;32m      3\u001b[0m \u001b[1;33m\u001b[0m\u001b[0m\n\u001b[0;32m      4\u001b[0m \u001b[1;31m#perform two-way ANOVA\u001b[0m\u001b[1;33m\u001b[0m\u001b[1;33m\u001b[0m\u001b[1;33m\u001b[0m\u001b[0m\n\u001b[0;32m      5\u001b[0m \u001b[0mmodel\u001b[0m \u001b[1;33m=\u001b[0m \u001b[0mols\u001b[0m\u001b[1;33m(\u001b[0m\u001b[1;34m'height ~ C(water) + C(sun) + C(water):C(sun)'\u001b[0m\u001b[1;33m,\u001b[0m \u001b[0mdata\u001b[0m\u001b[1;33m=\u001b[0m\u001b[0mdf\u001b[0m\u001b[1;33m)\u001b[0m\u001b[1;33m.\u001b[0m\u001b[0mfit\u001b[0m\u001b[1;33m(\u001b[0m\u001b[1;33m)\u001b[0m\u001b[1;33m\u001b[0m\u001b[1;33m\u001b[0m\u001b[0m\n",
      "\u001b[1;32m~\\Anaconda3\\lib\\site-packages\\statsmodels\\api.py\u001b[0m in \u001b[0;36m<module>\u001b[1;34m\u001b[0m\n\u001b[0;32m      7\u001b[0m \u001b[1;32mfrom\u001b[0m \u001b[1;33m.\u001b[0m \u001b[1;32mimport\u001b[0m \u001b[0mregression\u001b[0m\u001b[1;33m\u001b[0m\u001b[1;33m\u001b[0m\u001b[0m\n\u001b[0;32m      8\u001b[0m \u001b[1;32mfrom\u001b[0m \u001b[1;33m.\u001b[0m\u001b[0mregression\u001b[0m\u001b[1;33m.\u001b[0m\u001b[0mlinear_model\u001b[0m \u001b[1;32mimport\u001b[0m \u001b[0mOLS\u001b[0m\u001b[1;33m,\u001b[0m \u001b[0mGLS\u001b[0m\u001b[1;33m,\u001b[0m \u001b[0mWLS\u001b[0m\u001b[1;33m,\u001b[0m \u001b[0mGLSAR\u001b[0m\u001b[1;33m\u001b[0m\u001b[1;33m\u001b[0m\u001b[0m\n\u001b[1;32m----> 9\u001b[1;33m \u001b[1;32mfrom\u001b[0m \u001b[1;33m.\u001b[0m\u001b[0mregression\u001b[0m\u001b[1;33m.\u001b[0m\u001b[0mrecursive_ls\u001b[0m \u001b[1;32mimport\u001b[0m \u001b[0mRecursiveLS\u001b[0m\u001b[1;33m\u001b[0m\u001b[1;33m\u001b[0m\u001b[0m\n\u001b[0m\u001b[0;32m     10\u001b[0m \u001b[1;32mfrom\u001b[0m \u001b[1;33m.\u001b[0m\u001b[0mregression\u001b[0m\u001b[1;33m.\u001b[0m\u001b[0mquantile_regression\u001b[0m \u001b[1;32mimport\u001b[0m \u001b[0mQuantReg\u001b[0m\u001b[1;33m\u001b[0m\u001b[1;33m\u001b[0m\u001b[0m\n\u001b[0;32m     11\u001b[0m \u001b[1;32mfrom\u001b[0m \u001b[1;33m.\u001b[0m\u001b[0mregression\u001b[0m\u001b[1;33m.\u001b[0m\u001b[0mmixed_linear_model\u001b[0m \u001b[1;32mimport\u001b[0m \u001b[0mMixedLM\u001b[0m\u001b[1;33m\u001b[0m\u001b[1;33m\u001b[0m\u001b[0m\n",
      "\u001b[1;32m~\\Anaconda3\\lib\\site-packages\\statsmodels\\regression\\recursive_ls.py\u001b[0m in \u001b[0;36m<module>\u001b[1;34m\u001b[0m\n\u001b[0;32m     12\u001b[0m \u001b[1;32mfrom\u001b[0m \u001b[0mstatsmodels\u001b[0m\u001b[1;33m.\u001b[0m\u001b[0mcompat\u001b[0m \u001b[1;32mimport\u001b[0m \u001b[0municode\u001b[0m\u001b[1;33m\u001b[0m\u001b[1;33m\u001b[0m\u001b[0m\n\u001b[0;32m     13\u001b[0m \u001b[1;32mfrom\u001b[0m \u001b[0mstatsmodels\u001b[0m\u001b[1;33m.\u001b[0m\u001b[0mtools\u001b[0m\u001b[1;33m.\u001b[0m\u001b[0mdata\u001b[0m \u001b[1;32mimport\u001b[0m \u001b[0m_is_using_pandas\u001b[0m\u001b[1;33m\u001b[0m\u001b[1;33m\u001b[0m\u001b[0m\n\u001b[1;32m---> 14\u001b[1;33m from statsmodels.tsa.statespace.mlemodel import (\n\u001b[0m\u001b[0;32m     15\u001b[0m     \u001b[0mMLEModel\u001b[0m\u001b[1;33m,\u001b[0m \u001b[0mMLEResults\u001b[0m\u001b[1;33m,\u001b[0m \u001b[0mMLEResultsWrapper\u001b[0m\u001b[1;33m,\u001b[0m \u001b[0mPredictionResults\u001b[0m\u001b[1;33m,\u001b[0m\u001b[1;33m\u001b[0m\u001b[1;33m\u001b[0m\u001b[0m\n\u001b[0;32m     16\u001b[0m     PredictionResultsWrapper)\n",
      "\u001b[1;32m~\\Anaconda3\\lib\\site-packages\\statsmodels\\tsa\\statespace\\mlemodel.py\u001b[0m in \u001b[0;36m<module>\u001b[1;34m\u001b[0m\n\u001b[0;32m     27\u001b[0m \u001b[1;32mfrom\u001b[0m \u001b[0mstatsmodels\u001b[0m\u001b[1;33m.\u001b[0m\u001b[0mgenmod\u001b[0m\u001b[1;33m.\u001b[0m\u001b[0mfamilies\u001b[0m\u001b[1;33m.\u001b[0m\u001b[0mlinks\u001b[0m \u001b[1;32mimport\u001b[0m \u001b[0midentity\u001b[0m\u001b[1;33m\u001b[0m\u001b[1;33m\u001b[0m\u001b[0m\n\u001b[0;32m     28\u001b[0m \u001b[1;33m\u001b[0m\u001b[0m\n\u001b[1;32m---> 29\u001b[1;33m \u001b[1;32mimport\u001b[0m \u001b[0mstatsmodels\u001b[0m\u001b[1;33m.\u001b[0m\u001b[0mtsa\u001b[0m\u001b[1;33m.\u001b[0m\u001b[0mbase\u001b[0m\u001b[1;33m.\u001b[0m\u001b[0mtsa_model\u001b[0m \u001b[1;32mas\u001b[0m \u001b[0mtsbase\u001b[0m\u001b[1;33m\u001b[0m\u001b[1;33m\u001b[0m\u001b[0m\n\u001b[0m\u001b[0;32m     30\u001b[0m \u001b[1;33m\u001b[0m\u001b[0m\n\u001b[0;32m     31\u001b[0m \u001b[1;32mfrom\u001b[0m \u001b[1;33m.\u001b[0m\u001b[0msimulation_smoother\u001b[0m \u001b[1;32mimport\u001b[0m \u001b[0mSimulationSmoother\u001b[0m\u001b[1;33m\u001b[0m\u001b[1;33m\u001b[0m\u001b[0m\n",
      "\u001b[1;32m~\\Anaconda3\\lib\\site-packages\\statsmodels\\tsa\\base\\tsa_model.py\u001b[0m in \u001b[0;36m<module>\u001b[1;34m\u001b[0m\n\u001b[0;32m      1\u001b[0m \u001b[1;32mfrom\u001b[0m \u001b[0mstatsmodels\u001b[0m\u001b[1;33m.\u001b[0m\u001b[0mcompat\u001b[0m\u001b[1;33m.\u001b[0m\u001b[0mpython\u001b[0m \u001b[1;32mimport\u001b[0m \u001b[0mlong\u001b[0m\u001b[1;33m\u001b[0m\u001b[1;33m\u001b[0m\u001b[0m\n\u001b[1;32m----> 2\u001b[1;33m \u001b[1;32mfrom\u001b[0m \u001b[0mstatsmodels\u001b[0m\u001b[1;33m.\u001b[0m\u001b[0mcompat\u001b[0m\u001b[1;33m.\u001b[0m\u001b[0mpandas\u001b[0m \u001b[1;32mimport\u001b[0m \u001b[0mis_numeric_dtype\u001b[0m\u001b[1;33m\u001b[0m\u001b[1;33m\u001b[0m\u001b[0m\n\u001b[0m\u001b[0;32m      3\u001b[0m \u001b[1;33m\u001b[0m\u001b[0m\n\u001b[0;32m      4\u001b[0m \u001b[1;32mimport\u001b[0m \u001b[0mnumbers\u001b[0m\u001b[1;33m\u001b[0m\u001b[1;33m\u001b[0m\u001b[0m\n\u001b[0;32m      5\u001b[0m \u001b[1;33m\u001b[0m\u001b[0m\n",
      "\u001b[1;32m~\\Anaconda3\\lib\\site-packages\\statsmodels\\compat\\pandas.py\u001b[0m in \u001b[0;36m<module>\u001b[1;34m\u001b[0m\n\u001b[0;32m     21\u001b[0m     \u001b[1;32mexcept\u001b[0m \u001b[0mImportError\u001b[0m\u001b[1;33m:\u001b[0m\u001b[1;33m\u001b[0m\u001b[1;33m\u001b[0m\u001b[0m\n\u001b[0;32m     22\u001b[0m         \u001b[1;32mfrom\u001b[0m \u001b[0mpandas\u001b[0m\u001b[1;33m.\u001b[0m\u001b[0mtseries\u001b[0m \u001b[1;32mimport\u001b[0m \u001b[0mfrequencies\u001b[0m\u001b[1;33m\u001b[0m\u001b[1;33m\u001b[0m\u001b[0m\n\u001b[1;32m---> 23\u001b[1;33m     \u001b[0mdata_klasses\u001b[0m \u001b[1;33m=\u001b[0m \u001b[1;33m(\u001b[0m\u001b[0mpandas\u001b[0m\u001b[1;33m.\u001b[0m\u001b[0mSeries\u001b[0m\u001b[1;33m,\u001b[0m \u001b[0mpandas\u001b[0m\u001b[1;33m.\u001b[0m\u001b[0mDataFrame\u001b[0m\u001b[1;33m,\u001b[0m \u001b[0mpandas\u001b[0m\u001b[1;33m.\u001b[0m\u001b[0mPanel\u001b[0m\u001b[1;33m)\u001b[0m\u001b[1;33m\u001b[0m\u001b[1;33m\u001b[0m\u001b[0m\n\u001b[0m\u001b[0;32m     24\u001b[0m \u001b[1;32melse\u001b[0m\u001b[1;33m:\u001b[0m\u001b[1;33m\u001b[0m\u001b[1;33m\u001b[0m\u001b[0m\n\u001b[0;32m     25\u001b[0m     \u001b[1;32mtry\u001b[0m\u001b[1;33m:\u001b[0m\u001b[1;33m\u001b[0m\u001b[1;33m\u001b[0m\u001b[0m\n",
      "\u001b[1;32m~\\Anaconda3\\lib\\site-packages\\pandas\\__init__.py\u001b[0m in \u001b[0;36m__getattr__\u001b[1;34m(name)\u001b[0m\n\u001b[0;32m    242\u001b[0m         \u001b[1;32mreturn\u001b[0m \u001b[0m_SparseArray\u001b[0m\u001b[1;33m\u001b[0m\u001b[1;33m\u001b[0m\u001b[0m\n\u001b[0;32m    243\u001b[0m \u001b[1;33m\u001b[0m\u001b[0m\n\u001b[1;32m--> 244\u001b[1;33m     \u001b[1;32mraise\u001b[0m \u001b[0mAttributeError\u001b[0m\u001b[1;33m(\u001b[0m\u001b[1;34mf\"module 'pandas' has no attribute '{name}'\"\u001b[0m\u001b[1;33m)\u001b[0m\u001b[1;33m\u001b[0m\u001b[1;33m\u001b[0m\u001b[0m\n\u001b[0m\u001b[0;32m    245\u001b[0m \u001b[1;33m\u001b[0m\u001b[0m\n\u001b[0;32m    246\u001b[0m \u001b[1;33m\u001b[0m\u001b[0m\n",
      "\u001b[1;31mAttributeError\u001b[0m: module 'pandas' has no attribute 'Panel'"
     ]
    }
   ],
   "source": [
    "import statsmodels.api as sm\n",
    "from statsmodels.formula.api import ols\n",
    "\n",
    "#perform two-way ANOVA\n",
    "model = ols('height ~ C(water) + C(sun) + C(water):C(sun)', data=df).fit()\n",
    "sm.stats.anova_lm(model, typ=2)"
   ]
  },
  {
   "cell_type": "markdown",
   "id": "b7a4719c",
   "metadata": {},
   "source": [
    "<p>We can see the following p-values for each of the factors in the table:\n",
    "\n",
    "water: p-value = .000527\n",
    "sun: p-value = .0000002\n",
    "water*sun: p-value = .120667\n",
    "Since the p-values for water and sun are both less than .05, this means that both factors have a statistically significant effect on plant height. </p>"
   ]
  },
  {
   "cell_type": "markdown",
   "id": "940b6b53",
   "metadata": {},
   "source": [
    "# Linear Regression"
   ]
  },
  {
   "cell_type": "code",
   "execution_count": null,
   "id": "d83ace89",
   "metadata": {},
   "outputs": [],
   "source": []
  },
  {
   "cell_type": "code",
   "execution_count": 23,
   "id": "8e0913af",
   "metadata": {},
   "outputs": [
    {
     "name": "stdout",
     "output_type": "stream",
     "text": [
      "[34.23873874 54.98198198 59.13063063 75.72522523 34.23873874 46.68468468]\n",
      "meansquare 10.533033033033037\n",
      "RMSE 3.245463454274757\n"
     ]
    }
   ],
   "source": [
    "import numpy as np\n",
    "from sklearn.linear_model import LinearRegression\n",
    "from sklearn.metrics import mean_squared_error\n",
    "exp=[3,8,9,13,3,6]\n",
    "salary=[30,57,64,72,36,46]\n",
    "X=np.array([exp]).T\n",
    "Y=np.array(salary)\n",
    "X_new=np.array([5,6,7,8])\n",
    "r=LinearRegression()\n",
    "r=r.fit(X,Y)\n",
    "#print(r.coef_)\n",
    "#print(r.intercept_)\n",
    "predict_Y=r.predict(X)\n",
    "print(predict_Y)\n",
    "print('meansquare',mean_squared_error(Y,predict_Y))\n",
    "print('RMSE',np.sqrt(mean_squared_error(Y,predict_Y)))"
   ]
  },
  {
   "cell_type": "code",
   "execution_count": null,
   "id": "9a9b6639",
   "metadata": {},
   "outputs": [],
   "source": []
  }
 ],
 "metadata": {
  "kernelspec": {
   "display_name": "Python 3",
   "language": "python",
   "name": "python3"
  },
  "language_info": {
   "codemirror_mode": {
    "name": "ipython",
    "version": 3
   },
   "file_extension": ".py",
   "mimetype": "text/x-python",
   "name": "python",
   "nbconvert_exporter": "python",
   "pygments_lexer": "ipython3",
   "version": "3.7.3"
  }
 },
 "nbformat": 4,
 "nbformat_minor": 5
}
