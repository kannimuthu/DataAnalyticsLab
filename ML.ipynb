{
 "cells": [
  {
   "cell_type": "code",
   "execution_count": 1,
   "metadata": {
    "scrolled": false
   },
   "outputs": [
    {
     "name": "stdout",
     "output_type": "stream",
     "text": [
      "[[0 0]\n",
      " [0 1]\n",
      " [1 0]\n",
      " [1 1]]\n",
      "[[0]\n",
      " [1]\n",
      " [1]\n",
      " [1]]\n",
      "[0 1 1 1]\n",
      "accuracy 100.0\n"
     ]
    },
    {
     "name": "stderr",
     "output_type": "stream",
     "text": [
      "C:\\Users\\ROHINI\\Anaconda3\\lib\\site-packages\\sklearn\\utils\\validation.py:724: DataConversionWarning: A column-vector y was passed when a 1d array was expected. Please change the shape of y to (n_samples, ), for example using ravel().\n",
      "  y = column_or_1d(y, warn=True)\n"
     ]
    }
   ],
   "source": [
    "#sklearn lib\n",
    "import numpy as np\n",
    "from sklearn.linear_model import Perceptron\n",
    "from sklearn.metrics import accuracy_score\n",
    "X=np.array([[0,0],[0,1],[1,0],[1,1]])\n",
    "Y=np.array([[0],[1],[1],[1]])\n",
    "print(X)\n",
    "print(Y)    \n",
    "r=Perceptron()\n",
    "#train ML model\n",
    "r=r.fit(X,Y)\n",
    "predict_Y=r.predict(X)\n",
    "print(predict_Y)\n",
    "print('accuracy',accuracy_score(Y,predict_Y)*100)"
   ]
  },
  {
   "cell_type": "code",
   "execution_count": 1,
   "metadata": {
    "scrolled": false
   },
   "outputs": [
    {
     "name": "stdout",
     "output_type": "stream",
     "text": [
      "[34.23873874 54.98198198 59.13063063 75.72522523 34.23873874 46.68468468]\n",
      "meansquare 10.533033033033036\n",
      "RMSE 3.2454634542747565\n"
     ]
    }
   ],
   "source": [
    "import numpy as np\n",
    "from sklearn.linear_model import LinearRegression\n",
    "from sklearn.metrics import mean_squared_error\n",
    "exp=[3,8,9,13,3,6]\n",
    "salary=[30,57,64,72,36,46]\n",
    "\n",
    "X=np.array([exp]).T\n",
    "Y=np.array(salary)\n",
    "X_new=np.array([5,6,7,8])\n",
    "\n",
    "r=LinearRegression()\n",
    "r=r.fit(X,Y)\n",
    "#print(r.coef_)\n",
    "#print(r.intercept_)\n",
    "predict_Y=r.predict(X)\n",
    "print(predict_Y)\n",
    "print('meansquare',mean_squared_error(Y,predict_Y))\n",
    "print('RMSE',np.sqrt(mean_squared_error(Y,predict_Y)))"
   ]
  },
  {
   "cell_type": "markdown",
   "metadata": {},
   "source": [
    "About Confusion Matrix\n",
    "Positive (P) : Observation is positive (for example: is an apple).\n",
    "Negative (N) : Observation is not positive (for example: is not an apple).\n",
    "True Positive (TP) : Observation is positive, and is predicted to be positive.\n",
    "False Negative (FN) : Observation is positive, but is predicted negative.\n",
    "True Negative (TN) : Observation is negative, and is predicted to be negative.\n",
    "False Positive (FP) : Observation is negative, but is predicted positive."
   ]
  },
  {
   "cell_type": "markdown",
   "metadata": {},
   "source": [
    "Accuracy=(TP+TN)/(TP+TN+FP+FN)"
   ]
  },
  {
   "cell_type": "markdown",
   "metadata": {},
   "source": [
    "Recall=TP/(TP+FN)"
   ]
  },
  {
   "cell_type": "markdown",
   "metadata": {},
   "source": [
    "Precision=TP/(TP+FP)"
   ]
  },
  {
   "cell_type": "code",
   "execution_count": 3,
   "metadata": {},
   "outputs": [
    {
     "name": "stdout",
     "output_type": "stream",
     "text": [
      "(8, 4)\n",
      "[[1 1 1]\n",
      " [2 1 2]\n",
      " [2 2 2]\n",
      " [1 2 1]\n",
      " [2 2 1]\n",
      " [2 1 2]\n",
      " [1 2 2]\n",
      " [1 2 1]]\n",
      "[0 1 1 0 1 1 0 0]\n",
      "[0 1 1 0 1 1 0 0]\n",
      "Accuracy 100.0\n",
      "CM [[4 0]\n",
      " [0 4]]\n"
     ]
    }
   ],
   "source": [
    "import numpy as np\n",
    "import pandas as pd\n",
    "from sklearn.tree import DecisionTreeClassifier\n",
    "from sklearn.metrics import accuracy_score\n",
    "from sklearn.metrics import confusion_matrix\n",
    "d=pd.read_excel(\"Bayes-Flu.xlsx\")\n",
    "d=np.asarray(d)\n",
    "print(d.shape)\n",
    "X=d[:,0:3]\n",
    "Y=d[:,3]\n",
    "print(X)\n",
    "print(Y)\n",
    "r=DecisionTreeClassifier(criterion=\"entropy\")\n",
    "r=r.fit(X,Y)\n",
    "predict_Y=r.predict(X)\n",
    "print(predict_Y)\n",
    "print('Accuracy',accuracy_score(Y,predict_Y)*100)\n",
    "print('CM',confusion_matrix(Y,predict_Y))"
   ]
  },
  {
   "cell_type": "code",
   "execution_count": 4,
   "metadata": {},
   "outputs": [
    {
     "name": "stdout",
     "output_type": "stream",
     "text": [
      "(8, 4)\n",
      "[[1 1 1]\n",
      " [2 1 2]\n",
      " [2 2 2]\n",
      " [1 2 1]\n",
      " [2 2 1]\n",
      " [2 1 2]\n",
      " [1 2 2]\n",
      " [1 2 1]]\n",
      "[0 1 1 0 1 1 0 0]\n",
      "[4. 4.]\n",
      "[0 1]\n",
      "[1 1 1 0 1 1 0 0]\n",
      "Accuracy 87.5\n",
      "CM [[3 1]\n",
      " [0 4]]\n"
     ]
    }
   ],
   "source": [
    "import numpy as np\n",
    "import pandas as pd\n",
    "from sklearn.naive_bayes import MultinomialNB\n",
    "#from sklearn.naive_bayes import GaussianNB\n",
    "from sklearn.metrics import accuracy_score\n",
    "from sklearn.metrics import confusion_matrix\n",
    "d=pd.read_excel(\"Bayes-Flu.xlsx\")\n",
    "d=np.asarray(d)\n",
    "print(d.shape)\n",
    "X=d[:,0:3]\n",
    "Y=d[:,3]\n",
    "print(X)\n",
    "print(Y)\n",
    "r=MultinomialNB()\n",
    "#r=GaussianNB()\n",
    "r=r.fit(X,Y)\n",
    "print(r.class_count_)\n",
    "print(r.classes_)\n",
    "predict_Y=r.predict(X)\n",
    "print(predict_Y)\n",
    "print('Accuracy',accuracy_score(Y,predict_Y)*100)\n",
    "print('CM',confusion_matrix(Y,predict_Y))"
   ]
  },
  {
   "cell_type": "code",
   "execution_count": 2,
   "metadata": {},
   "outputs": [
    {
     "data": {
      "image/png": "[encoded data removed]",
      "text/plain": [
       "<Figure size 432x288 with 1 Axes>"
      ]
     },
     "metadata": {
      "needs_background": "light"
     },
     "output_type": "display_data"
    }
   ],
   "source": [
    "import matplotlib.pyplot as plt  \n",
    "import numpy as np  \n",
    "from sklearn.cluster import KMeans \n",
    "X = np.array([[198,227],[114,131],[145,176],[191,223],[104,116],[188,222],[96,102],[156,192],[125,152]])\n",
    "plt.scatter(X[:,0],X[:,1])\n",
    "plt.show()"
   ]
  },
  {
   "cell_type": "code",
   "execution_count": 3,
   "metadata": {},
   "outputs": [
    {
     "name": "stdout",
     "output_type": "stream",
     "text": [
      "[[104.66666667 116.33333333]\n",
      " [192.33333333 224.        ]\n",
      " [142.         173.33333333]]\n",
      "[1 0 2 1 0 1 0 2 2]\n"
     ]
    },
    {
     "data": {
      "text/plain": [
       "<matplotlib.collections.PathCollection at 0x1ab4eee4b00>"
      ]
     },
     "execution_count": 3,
     "metadata": {},
     "output_type": "execute_result"
    },
    {
     "data": {
      "image/png": "[encoded data removed]",
      "text/plain": [
       "<Figure size 432x288 with 1 Axes>"
      ]
     },
     "metadata": {
      "needs_background": "light"
     },
     "output_type": "display_data"
    }
   ],
   "source": [
    "kmeans=KMeans(n_clusters=3)  \n",
    "kmeans.fit(X)  \n",
    "print(kmeans.cluster_centers_)  \n",
    "print(kmeans.labels_)  \n",
    "plt.scatter(X[:,0], X[:,1], c=kmeans.labels_, cmap='rainbow')  \n",
    "plt.scatter(kmeans.cluster_centers_[:,0] ,kmeans.cluster_centers_[:,1], color='black')  "
   ]
  },
  {
   "cell_type": "code",
   "execution_count": 4,
   "metadata": {},
   "outputs": [
    {
     "name": "stdout",
     "output_type": "stream",
     "text": [
      "(4, 2)\n",
      "[[ 2.40093011]\n",
      " [ 0.99772243]\n",
      " [-1.19513483]\n",
      " [-2.20351772]]\n",
      "[[ 1.97311013  4.02089345]\n",
      " [ 1.11216068  2.9128511 ]\n",
      " [-0.23328466  1.18126229]\n",
      " [-0.85198615  0.38499317]]\n"
     ]
    },
    {
     "data": {
      "image/png": "[encoded data removed]",
      "text/plain": [
       "<Figure size 432x288 with 1 Axes>"
      ]
     },
     "metadata": {
      "needs_background": "light"
     },
     "output_type": "display_data"
    }
   ],
   "source": [
    "import numpy as np\n",
    "from sklearn.decomposition import PCA\n",
    "import matplotlib.pyplot as plot\n",
    "import pandas as pd\n",
    "d=pd.read_csv(\"PCA.csv\")\n",
    "A=np.asarray(d)\n",
    "print(A.shape)\n",
    "plot.scatter(A[:,0:1],A[:,1:2])\n",
    "pca = PCA(n_components = 1)\n",
    "pca.fit(A)\n",
    "# reconstruct image with independent components\n",
    "td = pca.fit_transform(A)\n",
    "rd = pca.inverse_transform(td)\n",
    "print(td)\n",
    "print(rd)"
   ]
  },
  {
   "cell_type": "code",
   "execution_count": null,
   "metadata": {},
   "outputs": [],
   "source": []
  }
 ],
 "metadata": {
  "kernelspec": {
   "display_name": "Python 3",
   "language": "python",
   "name": "python3"
  },
  "language_info": {
   "codemirror_mode": {
    "name": "ipython",
    "version": 3
   },
   "file_extension": ".py",
   "mimetype": "text/x-python",
   "name": "python",
   "nbconvert_exporter": "python",
   "pygments_lexer": "ipython3",
   "version": "3.7.3"
  }
 },
 "nbformat": 4,
 "nbformat_minor": 2
}
