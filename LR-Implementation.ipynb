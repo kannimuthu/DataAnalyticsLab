{
 "cells": [
  {
   "cell_type": "markdown",
   "metadata": {},
   "source": [
    "## <center>IMPLEMENTATION OF LINEAR REGRESSION</center>"
   ]
  },
  {
   "cell_type": "code",
   "execution_count": 6,
   "metadata": {},
   "outputs": [],
   "source": [
    "# LINEAR REGRESSION FUNCTION\n",
    "from numpy import *\n",
    "def linreg(inputs,targets):\n",
    "    inputs = concatenate((inputs,-ones((shape(inputs)[0],1))),axis=1)\n",
    "    beta = dot(dot(linalg.inv(dot(transpose(inputs),inputs)),transpose(inputs)),targets)\n",
    "    #outputs = dot(inputs,beta)\n",
    "    return beta"
   ]
  },
  {
   "cell_type": "code",
   "execution_count": 7,
   "metadata": {},
   "outputs": [
    {
     "name": "stdout",
     "output_type": "stream",
     "text": [
      "AND data\n",
      "[[0.5 ]\n",
      " [0.5 ]\n",
      " [0.25]]\n",
      "[[-0.25]\n",
      " [ 0.25]\n",
      " [ 0.25]\n",
      " [ 0.75]]\n",
      "[[0]\n",
      " [0]\n",
      " [0]\n",
      " [1]]\n"
     ]
    }
   ],
   "source": [
    "inputs = array([[0,0],[0,1],[1,0],[1,1]])\n",
    "#inputs=array([[1.0],[1.5],[2.0],[2.5],[3.0],[3.5],[4.0],[4.5]])\n",
    "#testin = concatenate((inputs,-ones((shape(inputs)[0],1))),axis=1)\n",
    "#myt=array([[3.9],[4.4],[5.8],[6.6],[7.0],[7.1],[7.3],[7.7]])\n",
    "# AND data\n",
    "ANDtargets = array([[0],[0],[0],[1]])\n",
    "print (\"AND data\")\n",
    "ANDbeta = linreg(inputs,ANDtargets)\n",
    "#ANDout = dot(testin,ANDbeta)\n",
    "testin = concatenate((inputs,-ones((shape(inputs)[0],1))),axis=1)\n",
    "ANDout = dot(testin,ANDbeta)\n",
    "print (ANDbeta)\n",
    "print (ANDout)\n",
    "print(where(ANDout>0.5,1,0))"
   ]
  },
  {
   "cell_type": "code",
   "execution_count": null,
   "metadata": {},
   "outputs": [],
   "source": []
  }
 ],
 "metadata": {
  "kernelspec": {
   "display_name": "Python 3",
   "language": "python",
   "name": "python3"
  },
  "language_info": {
   "codemirror_mode": {
    "name": "ipython",
    "version": 3
   },
   "file_extension": ".py",
   "mimetype": "text/x-python",
   "name": "python",
   "nbconvert_exporter": "python",
   "pygments_lexer": "ipython3",
   "version": "3.7.3"
  }
 },
 "nbformat": 4,
 "nbformat_minor": 2
}
